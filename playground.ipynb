{
 "cells": [
  {
   "cell_type": "code",
   "execution_count": 30,
   "metadata": {},
   "outputs": [],
   "source": [
    "import numpy as np\n",
    "from IPython.core.display import HTML"
   ]
  },
  {
   "cell_type": "code",
   "execution_count": 8,
   "metadata": {},
   "outputs": [
    {
     "name": "stdout",
     "output_type": "stream",
     "text": [
      "(3,)\n"
     ]
    },
    {
     "data": {
      "text/plain": [
       "array([1, 2, 3])"
      ]
     },
     "execution_count": 8,
     "metadata": {},
     "output_type": "execute_result"
    }
   ],
   "source": [
    "x = np.array([1,2,3]) # 1D vector\n",
    "print(x.shape)\n",
    "x"
   ]
  },
  {
   "cell_type": "code",
   "execution_count": 12,
   "metadata": {},
   "outputs": [
    {
     "data": {
      "text/plain": [
       "array([[1],\n",
       "       [2],\n",
       "       [3]])"
      ]
     },
     "execution_count": 12,
     "metadata": {},
     "output_type": "execute_result"
    }
   ],
   "source": [
    "y = x.reshape(-1,1) # vertical 2D vector\n",
    "y"
   ]
  },
  {
   "cell_type": "code",
   "execution_count": 22,
   "metadata": {},
   "outputs": [
    {
     "name": "stdout",
     "output_type": "stream",
     "text": [
      "[[1 2 3]]\n",
      "<class 'numpy.ndarray'>\n"
     ]
    },
    {
     "data": {
      "text/plain": [
       "(1, 3)"
      ]
     },
     "execution_count": 22,
     "metadata": {},
     "output_type": "execute_result"
    }
   ],
   "source": [
    "z = x.reshape(1,-1) # horiz 2D vector\n",
    "print(z)\n",
    "z.shape"
   ]
  },
  {
   "cell_type": "code",
   "execution_count": 27,
   "metadata": {},
   "outputs": [],
   "source": [
    "YELLOW = \"#fefecd\" # \"#fbfbd0\" # \"#FBFEB0\"\n",
    "BLUE = \"#D9E6F5\"\n",
    "GREEN = \"#cfe2d4\"\n",
    "class Prefs: pass\n",
    "prefs = Prefs()\n",
    "prefs.max_str_len = 20         # how many chars before we abbreviate with ...?\n",
    "prefs.max_horiz_array_len = 40 # how many chars before it's too wide and we go vertical?\n",
    "prefs.max_list_elems = 10      # how many elements max to display in list (unused so far)"
   ]
  },
  {
   "cell_type": "code",
   "execution_count": 25,
   "metadata": {},
   "outputs": [],
   "source": [
    "def ndarrayviz(data):\n",
    "    \n",
    "    return None\n",
    "\n",
    "def gr_ndarray_html(elems, title=None, bgcolor=YELLOW):\n",
    "    if len(elems)==0:\n",
    "        return \" \"\n",
    "    header = '<table BORDER=\"0\" CELLPADDING=\"0\" CELLBORDER=\"1\" CELLSPACING=\"0\">\\n'\n",
    "    tail = \"</table>\\n\"\n",
    "    blankrow = '<tr><td colspan=\"3\" cellpadding=\"1\" border=\"0\" bgcolor=\"%s\"></td></tr>' % (bgcolor)\n",
    "    sep = '<td cellspacing=\"0\" cellpadding=\"0\" border=\"0\"></td>'\n",
    "\n",
    "    rows = []\n",
    "    if title is not None:\n",
    "        title = '<tr><td cellspacing=\"0\" colspan=\"3\" cellpadding=\"0\" bgcolor=\"%s\" border=\"1\" sides=\"b\" align=\"center\"><font color=\"#444443\" FACE=\"Times-Italic\" point-size=\"11\">%s</font></td></tr>\\n' % (bgcolor, title)\n",
    "        rows.append(title)\n",
    "\n",
    "    N = len(elems)\n",
    "    if N > prefs.max_list_elems:\n",
    "        items = [(i,elems[i]) for i in range(prefs.max_list_elems-1)] + [(Ellipsis(),Ellipsis()),(N-1,elems[N - 1])]\n",
    "    else:\n",
    "        items = [(i,elems[i]) for i in range(N)]\n",
    "\n",
    "    if len(items)>0:\n",
    "        for i,e in items:\n",
    "            if len(str(e)) > prefs.max_str_len:\n",
    "                e = abbrev_and_escape(str(e))\n",
    "            v = repr(e)\n",
    "            value = '<td port=\"%s\" cellspacing=\"0\" cellpadding=\"1\" bgcolor=\"%s\" border=\"0\" align=\"center\"><font color=\"#444443\" point-size=\"11\"> %s</font></td>\\n' % (i, bgcolor, v)\n",
    "            row = '<tr>' + value + '</tr>\\n'\n",
    "            rows.append(row)\n",
    "    else:\n",
    "        rows.append('<tr><td cellspacing=\"0\" cellpadding=\"0\" border=\"0\"><font point-size=\"9\"> ... </font></td></tr>\\n')\n",
    "\n",
    "    return header + blankrow.join(rows) + tail"
   ]
  },
  {
   "cell_type": "code",
   "execution_count": 33,
   "metadata": {},
   "outputs": [
    {
     "data": {
      "text/html": [
       "<table BORDER=\"0\" CELLPADDING=\"0\" CELLBORDER=\"1\" CELLSPACING=\"0\">\n",
       "<tr><td port=\"0\" cellspacing=\"0\" cellpadding=\"1\" bgcolor=\"#fefecd\" border=\"0\" align=\"center\"><font color=\"#444443\" point-size=\"11\"> array([1, 2, 3])</font></td>\n",
       "</tr>\n",
       "</table>\n"
      ],
      "text/plain": [
       "<IPython.core.display.HTML object>"
      ]
     },
     "execution_count": 33,
     "metadata": {},
     "output_type": "execute_result"
    }
   ],
   "source": [
    "HTML(gr_ndarray_html(z))"
   ]
  }
 ],
 "metadata": {
  "kernelspec": {
   "display_name": "Python 3",
   "language": "python",
   "name": "python3"
  },
  "language_info": {
   "codemirror_mode": {
    "name": "ipython",
    "version": 3
   },
   "file_extension": ".py",
   "mimetype": "text/x-python",
   "name": "python",
   "nbconvert_exporter": "python",
   "pygments_lexer": "ipython3",
   "version": "3.6.5"
  }
 },
 "nbformat": 4,
 "nbformat_minor": 2
}
