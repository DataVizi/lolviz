{
 "cells": [
  {
   "cell_type": "code",
   "execution_count": 1,
   "metadata": {},
   "outputs": [],
   "source": [
    "import numpy as np\n",
    "from IPython.core.display import HTML"
   ]
  },
  {
   "cell_type": "code",
   "execution_count": 2,
   "metadata": {},
   "outputs": [
    {
     "name": "stdout",
     "output_type": "stream",
     "text": [
      "(3,)\n"
     ]
    },
    {
     "data": {
      "text/plain": [
       "array([1, 2, 3])"
      ]
     },
     "execution_count": 2,
     "metadata": {},
     "output_type": "execute_result"
    }
   ],
   "source": [
    "x = np.array([1,2,3]) # 1D vector\n",
    "print(x.shape)\n",
    "x"
   ]
  },
  {
   "cell_type": "code",
   "execution_count": 3,
   "metadata": {},
   "outputs": [
    {
     "data": {
      "text/plain": [
       "array([[1],\n",
       "       [2],\n",
       "       [3]])"
      ]
     },
     "execution_count": 3,
     "metadata": {},
     "output_type": "execute_result"
    }
   ],
   "source": [
    "y = x.reshape(-1,1) # vertical 2D vector\n",
    "y"
   ]
  },
  {
   "cell_type": "code",
   "execution_count": 4,
   "metadata": {},
   "outputs": [
    {
     "name": "stdout",
     "output_type": "stream",
     "text": [
      "[[1 2 3]]\n"
     ]
    },
    {
     "data": {
      "text/plain": [
       "(1, 3)"
      ]
     },
     "execution_count": 4,
     "metadata": {},
     "output_type": "execute_result"
    }
   ],
   "source": [
    "z = x.reshape(1,-1) # horiz 2D vector\n",
    "print(z)\n",
    "z.shape"
   ]
  },
  {
   "cell_type": "code",
   "execution_count": 5,
   "metadata": {},
   "outputs": [
    {
     "data": {
      "text/plain": [
       "array([[ 1,  2,  8,  9],\n",
       "       [ 3,  4, 22,  1]])"
      ]
     },
     "execution_count": 5,
     "metadata": {},
     "output_type": "execute_result"
    }
   ],
   "source": [
    "A = np.array([[1,2,8,9],[3,4,22,1]])\n",
    "A"
   ]
  },
  {
   "cell_type": "code",
   "execution_count": 188,
   "metadata": {},
   "outputs": [
    {
     "data": {
      "text/plain": [
       "array([[  0.,   1.,   2., ...,  97.,  98.,  99.],\n",
       "       [  1.,   2.,   3., ...,  98.,  99., 100.],\n",
       "       [  2.,   3.,   4., ...,  99., 100., 101.],\n",
       "       ...,\n",
       "       [ 97.,  98.,  99., ..., 194., 195., 196.],\n",
       "       [ 98.,  99., 100., ..., 195., 196., 197.],\n",
       "       [ 99., 100., 101., ..., 196., 197., 198.]])"
      ]
     },
     "execution_count": 188,
     "metadata": {},
     "output_type": "execute_result"
    }
   ],
   "source": [
    "B = np.ones((100,100))\n",
    "for i in range(100):\n",
    "    for j in range(100):\n",
    "        B[i,j] = i+j\n",
    "B"
   ]
  },
  {
   "cell_type": "code",
   "execution_count": 210,
   "metadata": {},
   "outputs": [],
   "source": [
    "YELLOW = \"#fefecd\" # \"#fbfbd0\" # \"#FBFEB0\"\n",
    "BLUE = \"#D9E6F5\"\n",
    "GREEN = \"#cfe2d4\"\n",
    "class Prefs: pass\n",
    "prefs = Prefs()\n",
    "prefs.max_str_len = 20         # how many chars before we abbreviate with ...?\n",
    "prefs.max_horiz_array_len = 40 # how many chars before it's too wide and we go vertical?\n",
    "prefs.max_list_elems = 10      # how many elements max to display in list (unused so far)\n",
    "prefs.float_precision = 5      # how many decimal places to show for floats"
   ]
  },
  {
   "cell_type": "code",
   "execution_count": 211,
   "metadata": {},
   "outputs": [
    {
     "data": {
      "text/html": [
       "<table BORDER=\"0\" CELLPADDING=\"0\" CELLBORDER=\"1\" CELLSPACING=\"0\">\n",
       "<tr><td cellspacing=\"0\" cellpadding=\"3\" bgcolor=\"#fefecd\" border=\"0\" align=\"center\"><font color=\"#444443\" point-size=\"10\">1</font></td>\n",
       "<td cellspacing=\"0\" cellpadding=\"3\" bgcolor=\"#fefecd\" border=\"0\" align=\"center\"><font color=\"#444443\" point-size=\"10\">3</font></td>\n",
       "<td cellspacing=\"0\" cellpadding=\"3\" bgcolor=\"#fefecd\" border=\"0\" align=\"center\"><font color=\"#444443\" point-size=\"10\">4</font></td>\n",
       "</tr>\n",
       "</table>\n"
      ],
      "text/plain": [
       "<IPython.core.display.HTML object>"
      ]
     },
     "execution_count": 211,
     "metadata": {},
     "output_type": "execute_result"
    }
   ],
   "source": [
    "def gr_1darray_html(data, bgcolor=YELLOW):\n",
    "    if not isinstance(data,np.ndarray):\n",
    "        return \" \"\n",
    "    if data.ndim > 1:\n",
    "        return gr_1darray_html(data, bgcolor)\n",
    "    if data.ndim > 2:\n",
    "        return \" \"\n",
    "\n",
    "    ncols = len(data)\n",
    "    header = '<table BORDER=\"0\" CELLPADDING=\"0\" CELLBORDER=\"1\" CELLSPACING=\"0\">\\n'\n",
    "    tail = \"</table>\\n\"\n",
    "\n",
    "    # grab slice of max elements from matrix\n",
    "    coloversize = False\n",
    "    midpoint = prefs.max_list_elems//2\n",
    "    if ncols > prefs.max_list_elems:\n",
    "        colslice = list(np.arange(0,midpoint)) + list(np.arange(ncols-midpoint,ncols))\n",
    "        data = data[colslice]\n",
    "        ncols=len(colslice)\n",
    "        coloversize = True\n",
    "\n",
    "    cells = []\n",
    "    for j in range(ncols):\n",
    "        if coloversize and j==midpoint:\n",
    "            cells.append( '<td cellspacing=\"0\" cellpadding=\"2\" bgcolor=\"%s\" border=\"0\" align=\"center\"><font color=\"#444443\" point-size=\"10\">...</font></td>\\n' % bgcolor)\n",
    "        value = data[j]\n",
    "        if isinstance(value, float):\n",
    "            if str(value).endswith('.0'):\n",
    "                value = str(value)[:-1]             \n",
    "            else:\n",
    "                value = round(value, prefs.float_precision)\n",
    "        if isinstance(value, float) and str(value).endswith('.0'):\n",
    "            value = str(value)[:-1]                \n",
    "        if len(str(value)) > prefs.max_str_len:\n",
    "            value = abbrev_and_escape(str(value))\n",
    "        cell = '<td cellspacing=\"0\" cellpadding=\"3\" bgcolor=\"%s\" border=\"0\" align=\"center\"><font color=\"#444443\" point-size=\"10\">%s</font></td>\\n' % (bgcolor, value)\n",
    "        cells.append( cell )\n",
    "\n",
    "    row = '<tr>' + ''.join(cells) + '</tr>\\n'\n",
    "\n",
    "    return header + row + tail\n",
    "\n",
    "def gr_2darray_html(data, bgcolor=YELLOW):\n",
    "    if len(data)==0:\n",
    "        return \" \"\n",
    "    if not isinstance(data,np.ndarray):\n",
    "        return \" \"\n",
    "    if data.ndim == 1:\n",
    "        return gr_1darray_html(data, bgcolor)\n",
    "    if data.ndim > 2:\n",
    "        return \" \"\n",
    "\n",
    "    nrows,ncols = data.shape\n",
    "    header = '<table BORDER=\"0\" CELLPADDING=\"0\" CELLBORDER=\"1\" CELLSPACING=\"0\">\\n'\n",
    "    tail = \"</table>\\n\"\n",
    "\n",
    "    # grab slice of max elements from matrix\n",
    "    coloversize = rowoversize = False\n",
    "    midpoint = prefs.max_list_elems//2\n",
    "    if nrows > prefs.max_list_elems:\n",
    "        rowslice = list(np.arange(0,midpoint)) + list(np.arange(nrows-midpoint,nrows))\n",
    "        data = data[rowslice]\n",
    "        nrows=len(rowslice)\n",
    "        rowoversize = True\n",
    "    if ncols > prefs.max_list_elems:\n",
    "        colslice = list(np.arange(0,midpoint)) + list(np.arange(ncols-midpoint,ncols))\n",
    "        data = data[:,colslice]\n",
    "        ncols=len(colslice)\n",
    "        coloversize = True\n",
    "\n",
    "    rows = []\n",
    "    for i in range(nrows):\n",
    "        if rowoversize and i==midpoint:\n",
    "            rows.append( '<tr><td bgcolor=\"%s\" cellpadding=\"2\" border=\"0\" align=\"center\"><font color=\"#444443\" point-size=\"10\">&#8942;</font></td><td bgcolor=\"%s\" cellpadding=\"2\" border=\"0\" colspan=\"%d\"></td></tr>\\n' % (bgcolor,bgcolor,ncols))\n",
    "        cells = []\n",
    "        for j in range(ncols):\n",
    "            if coloversize and j==midpoint:\n",
    "                cells.append( '<td cellspacing=\"0\" cellpadding=\"2\" bgcolor=\"%s\" border=\"0\" align=\"center\"><font color=\"#444443\" point-size=\"10\">...</font></td>\\n' % bgcolor)\n",
    "            value = data[i,j]\n",
    "            if isinstance(value, float):\n",
    "                if str(value).endswith('.0'):\n",
    "                    value = str(value)[:-1]             \n",
    "                else:\n",
    "                    value = round(value, prefs.float_precision)\n",
    "            if len(str(value)) > prefs.max_str_len:\n",
    "                value = abbrev_and_escape(str(value))\n",
    "            cell = '<td cellspacing=\"0\" cellpadding=\"3\" bgcolor=\"%s\" border=\"0\" align=\"center\"><font color=\"#444443\" point-size=\"10\">%s</font></td>\\n' % (bgcolor, value)\n",
    "            cells.append( cell )\n",
    "        row = '<tr>' + ''.join(cells) + '</tr>\\n'\n",
    "        rows.append(row)\n",
    "\n",
    "    return header + ''.join(rows) + tail\n",
    "\n",
    "h = gr_2darray_html(np.array([1,3,4]))\n",
    "#print(h)\n",
    "HTML(h)"
   ]
  },
  {
   "cell_type": "code",
   "execution_count": 218,
   "metadata": {},
   "outputs": [
    {
     "data": {
      "image/svg+xml": [
       "<?xml version=\"1.0\" encoding=\"UTF-8\" standalone=\"no\"?>\n",
       "<!DOCTYPE svg PUBLIC \"-//W3C//DTD SVG 1.1//EN\"\n",
       " \"http://www.w3.org/Graphics/SVG/1.1/DTD/svg11.dtd\">\n",
       "<!-- Generated by graphviz version 2.40.1 (20161225.0304)\n",
       " -->\n",
       "<!-- Title: G Pages: 1 -->\n",
       "<svg width=\"60pt\" height=\"42pt\"\n",
       " viewBox=\"0.00 0.00 60.00 42.00\" xmlns=\"http://www.w3.org/2000/svg\" xmlns:xlink=\"http://www.w3.org/1999/xlink\">\n",
       "<g id=\"graph0\" class=\"graph\" transform=\"scale(1 1) rotate(0) translate(4 38)\">\n",
       "<title>G</title>\n",
       "<polygon fill=\"#ffffff\" stroke=\"transparent\" points=\"-4,4 -4,-38 56,-38 56,4 -4,4\"/>\n",
       "<!-- node4495852128 -->\n",
       "<g id=\"node1\" class=\"node\">\n",
       "<title>node4495852128</title>\n",
       "<polygon fill=\"none\" stroke=\"#000000\" stroke-width=\".5\" points=\"52,-34 0,-34 0,0 52,0 52,-34\"/>\n",
       "<polygon fill=\"#fefecd\" stroke=\"transparent\" points=\"1,-17 1,-33 12,-33 12,-17 1,-17\"/>\n",
       "<text text-anchor=\"start\" x=\"3.7192\" y=\"-22\" font-family=\"Helvetica,sans-Serif\" font-size=\"10.00\" fill=\"#444443\">1</text>\n",
       "<polygon fill=\"#fefecd\" stroke=\"transparent\" points=\"12,-17 12,-33 23,-33 23,-17 12,-17\"/>\n",
       "<text text-anchor=\"start\" x=\"14.7192\" y=\"-22\" font-family=\"Helvetica,sans-Serif\" font-size=\"10.00\" fill=\"#444443\">2</text>\n",
       "<polygon fill=\"#fefecd\" stroke=\"transparent\" points=\"23,-17 23,-33 40,-33 40,-17 23,-17\"/>\n",
       "<text text-anchor=\"start\" x=\"28.7192\" y=\"-22\" font-family=\"Helvetica,sans-Serif\" font-size=\"10.00\" fill=\"#444443\">8</text>\n",
       "<polygon fill=\"#fefecd\" stroke=\"transparent\" points=\"40,-17 40,-33 51,-33 51,-17 40,-17\"/>\n",
       "<text text-anchor=\"start\" x=\"42.7192\" y=\"-22\" font-family=\"Helvetica,sans-Serif\" font-size=\"10.00\" fill=\"#444443\">9</text>\n",
       "<polygon fill=\"#fefecd\" stroke=\"transparent\" points=\"1,-1 1,-17 12,-17 12,-1 1,-1\"/>\n",
       "<text text-anchor=\"start\" x=\"3.7192\" y=\"-6\" font-family=\"Helvetica,sans-Serif\" font-size=\"10.00\" fill=\"#444443\">3</text>\n",
       "<polygon fill=\"#fefecd\" stroke=\"transparent\" points=\"12,-1 12,-17 23,-17 23,-1 12,-1\"/>\n",
       "<text text-anchor=\"start\" x=\"14.7192\" y=\"-6\" font-family=\"Helvetica,sans-Serif\" font-size=\"10.00\" fill=\"#444443\">4</text>\n",
       "<polygon fill=\"#fefecd\" stroke=\"transparent\" points=\"23,-1 23,-17 40,-17 40,-1 23,-1\"/>\n",
       "<text text-anchor=\"start\" x=\"25.9385\" y=\"-6\" font-family=\"Helvetica,sans-Serif\" font-size=\"10.00\" fill=\"#444443\">22</text>\n",
       "<polygon fill=\"#fefecd\" stroke=\"transparent\" points=\"40,-1 40,-17 51,-17 51,-1 40,-1\"/>\n",
       "<text text-anchor=\"start\" x=\"42.7192\" y=\"-6\" font-family=\"Helvetica,sans-Serif\" font-size=\"10.00\" fill=\"#444443\">1</text>\n",
       "</g>\n",
       "</g>\n",
       "</svg>\n"
      ],
      "text/plain": [
       "<graphviz.files.Source at 0x10ceb5828>"
      ]
     },
     "execution_count": 218,
     "metadata": {},
     "output_type": "execute_result"
    }
   ],
   "source": [
    "import graphviz\n",
    "\n",
    "def gr_ndarray_node(nodename, data, bgcolor=YELLOW):\n",
    "    shape=\"box\"\n",
    "    html = gr_2darray_html(data, bgcolor=bgcolor)\n",
    "    return '%s [shape=\"%s\", space=\"0.0\", margin=\"0.01\", fontcolor=\"#444443\", fontname=\"Helvetica\", label=<%s>];\\n' % (nodename,shape,html)\n",
    "\n",
    "def myviz(data):\n",
    "    s = \"\"\"\n",
    "    digraph G {\n",
    "        nodesep=.05;\n",
    "        node [penwidth=\"0.5\", width=.1,height=.1];\n",
    "    \"\"\"\n",
    "\n",
    "    s += gr_ndarray_node('node%d'%id(data), data)\n",
    "\n",
    "    s += \"}\\n\"\n",
    "    return graphviz.Source(s)\n",
    "myviz(A)"
   ]
  },
  {
   "cell_type": "code",
   "execution_count": 189,
   "metadata": {},
   "outputs": [
    {
     "data": {
      "image/svg+xml": [
       "<?xml version=\"1.0\" encoding=\"UTF-8\" standalone=\"no\"?>\n",
       "<!DOCTYPE svg PUBLIC \"-//W3C//DTD SVG 1.1//EN\"\n",
       " \"http://www.w3.org/Graphics/SVG/1.1/DTD/svg11.dtd\">\n",
       "<!-- Generated by graphviz version 2.40.1 (20161225.0304)\n",
       " -->\n",
       "<!-- Title: G Pages: 1 -->\n",
       "<svg width=\"101pt\" height=\"42pt\"\n",
       " viewBox=\"0.00 0.00 101.00 42.00\" xmlns=\"http://www.w3.org/2000/svg\" xmlns:xlink=\"http://www.w3.org/1999/xlink\">\n",
       "<g id=\"graph0\" class=\"graph\" transform=\"scale(1 1) rotate(0) translate(4 38)\">\n",
       "<title>G</title>\n",
       "<polygon fill=\"#ffffff\" stroke=\"transparent\" points=\"-4,4 -4,-38 97,-38 97,4 -4,4\"/>\n",
       "<!-- node4512257328 -->\n",
       "<g id=\"node1\" class=\"node\">\n",
       "<title>node4512257328</title>\n",
       "<polygon fill=\"none\" stroke=\"#000000\" stroke-width=\".5\" points=\"93,-34 0,-34 0,0 93,0 93,-34\"/>\n",
       "<polygon fill=\"#fefecd\" stroke=\"transparent\" points=\"1.5,-17 1.5,-33 23.5,-33 23.5,-17 1.5,-17\"/>\n",
       "<text text-anchor=\"start\" x=\"4.4385\" y=\"-22\" font-family=\"Helvetica,sans-Serif\" font-size=\"10.00\" fill=\"#444443\">abc</text>\n",
       "<polygon fill=\"#fefecd\" stroke=\"transparent\" points=\"23.5,-17 23.5,-33 92.5,-33 92.5,-17 23.5,-17\"/>\n",
       "<text text-anchor=\"start\" x=\"55.5\" y=\"-22\" font-family=\"Helvetica,sans-Serif\" font-size=\"10.00\" fill=\"#444443\">x</text>\n",
       "<polygon fill=\"#fefecd\" stroke=\"transparent\" points=\"1.5,-1 1.5,-17 23.5,-17 23.5,-1 1.5,-1\"/>\n",
       "<text text-anchor=\"start\" x=\"8.6084\" y=\"-6\" font-family=\"Helvetica,sans-Serif\" font-size=\"10.00\" fill=\"#444443\">hi</text>\n",
       "<polygon fill=\"#fefecd\" stroke=\"transparent\" points=\"23.5,-1 23.5,-17 92.5,-17 92.5,-1 23.5,-1\"/>\n",
       "<text text-anchor=\"start\" x=\"26.0396\" y=\"-6\" font-family=\"Helvetica,sans-Serif\" font-size=\"10.00\" fill=\"#444443\">you are yellow</text>\n",
       "</g>\n",
       "</g>\n",
       "</svg>\n"
      ],
      "text/plain": [
       "<graphviz.files.Source at 0x10cf34860>"
      ]
     },
     "execution_count": 189,
     "metadata": {},
     "output_type": "execute_result"
    }
   ],
   "source": [
    "myviz(np.array([['abc','x'],['hi','you are yellow']]))"
   ]
  },
  {
   "cell_type": "code",
   "execution_count": 104,
   "metadata": {},
   "outputs": [
    {
     "data": {
      "text/plain": [
       "[0, 1, 2, 3, 4, 95, 96, 97, 98, 99]"
      ]
     },
     "execution_count": 104,
     "metadata": {},
     "output_type": "execute_result"
    }
   ],
   "source": [
    "nrows=100\n",
    "ncols=100\n",
    "midpoint = 10//2\n",
    "list(np.arange(0,midpoint)) + list(np.arange(nrows-midpoint,nrows))"
   ]
  },
  {
   "cell_type": "code",
   "execution_count": 226,
   "metadata": {},
   "outputs": [
    {
     "name": "stdout",
     "output_type": "stream",
     "text": [
      "hi\n"
     ]
    }
   ],
   "source": [
    "import subprocess\n",
    "import sys\n",
    "\n",
    "reqs = subprocess.check_output([sys.executable, '-m', 'pip', 'freeze'])\n",
    "installed_packages = set([r.decode().split('==')[0] for r in reqs.split()])\n",
    "if 'numpy' in installed_packages:\n",
    "    print('hi')"
   ]
  }
 ],
 "metadata": {
  "kernelspec": {
   "display_name": "Python 3",
   "language": "python",
   "name": "python3"
  },
  "language_info": {
   "codemirror_mode": {
    "name": "ipython",
    "version": 3
   },
   "file_extension": ".py",
   "mimetype": "text/x-python",
   "name": "python",
   "nbconvert_exporter": "python",
   "pygments_lexer": "ipython3",
   "version": "3.6.5"
  }
 },
 "nbformat": 4,
 "nbformat_minor": 2
}
